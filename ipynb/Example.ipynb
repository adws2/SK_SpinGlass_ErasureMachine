{
 "cells": [
  {
   "cell_type": "code",
   "execution_count": 1,
   "id": "3343717a",
   "metadata": {},
   "outputs": [],
   "source": [
    "import Spin_model\n",
    "import matplotlib.pyplot as plt\n",
    "import numpy as np"
   ]
  },
  {
   "cell_type": "code",
   "execution_count": 3,
   "id": "1914af19",
   "metadata": {},
   "outputs": [],
   "source": [
    "model = Spin_model.Spin_simulation(25)\n",
    "model.adjacency_matrix('2D-Ising')"
   ]
  },
  {
   "cell_type": "code",
   "execution_count": 4,
   "id": "7149950f",
   "metadata": {},
   "outputs": [],
   "source": [
    "T = np.arange(5,1,-0.5)\n",
    "sample_size = 1000\n",
    "eq_T = 1000\n",
    "sampling_interval = 3\n",
    "\n",
    "samples = model.MC_Sampling(T,sample_size, eq_T, sampling_interval)"
   ]
  },
  {
   "cell_type": "code",
   "execution_count": null,
   "id": "f56b06a4",
   "metadata": {},
   "outputs": [],
   "source": []
  }
 ],
 "metadata": {
  "kernelspec": {
   "display_name": "Python 3 (ipykernel)",
   "language": "python",
   "name": "python3"
  },
  "language_info": {
   "codemirror_mode": {
    "name": "ipython",
    "version": 3
   },
   "file_extension": ".py",
   "mimetype": "text/x-python",
   "name": "python",
   "nbconvert_exporter": "python",
   "pygments_lexer": "ipython3",
   "version": "3.9.6"
  }
 },
 "nbformat": 4,
 "nbformat_minor": 5
}
