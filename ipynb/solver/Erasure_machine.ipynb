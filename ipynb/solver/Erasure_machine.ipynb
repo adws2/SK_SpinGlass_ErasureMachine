{
 "cells": [
  {
   "cell_type": "code",
   "execution_count": 26,
   "id": "f292a511",
   "metadata": {},
   "outputs": [],
   "source": [
    "import numpy as np\n",
    "import matplotlib.pyplot as plt\n",
    "from numpy.random import rand\n",
    "import time"
   ]
  },
  {
   "cell_type": "code",
   "execution_count": 80,
   "id": "85a3e997",
   "metadata": {},
   "outputs": [],
   "source": [
    "#=========================================================================================\n",
    "\n",
    "\n",
    "class fit():\n",
    "    def __init__(self,epsilon = 0.7, learning_rate = 0.1, max_iter = 151,regularizer = 0.1):\n",
    "        self.epsilon = epsilon\n",
    "        self.learning_rate = learning_rate\n",
    "        self.max_iter = max_iter\n",
    "        self.regularizer = regularizer\n",
    "        \n",
    "        \n",
    "    def operators(configuration):\n",
    "        #O = <S_i S_j>\n",
    "        system_size,sample_size = configuration.shape\n",
    "        Op = np.zeros((int(system_size*(system_size-1)/2), sample_size))\n",
    "\n",
    "        jindex = 0\n",
    "        for index in range(system_size-1):\n",
    "            temp = configuration[index,:] * configuration[index+1:,:]\n",
    "            Op[jindex: jindex + system_size - index -1 , :] = temp\n",
    "            jindex += system_size - index - 1\n",
    "        return Op\n",
    "        \n",
    "        \n",
    "    def em1(self, ops):\n",
    "        n_ops = ops.shape[0]\n",
    "        np.random.seed(13)\n",
    "        w = np.random.rand(n_ops)-0.5\n",
    "        for i in range(self.max_iter):\n",
    "\n",
    "            energies_w = w@ops\n",
    "\n",
    "            energies_max = energies_w.max()  \n",
    "            probs_w = np.exp((energies_w-energies_max)*(self.epsilon-1)) \n",
    "            z_data = np.sum(probs_w)\n",
    "            probs_w /= z_data\n",
    "            ops_expect_w = np.sum(probs_w[np.newaxis,:]*ops,axis=1)\n",
    "\n",
    "\n",
    "            w += self.learning_rate*(ops_expect_w - w*self.epsilon - self.regularizer*w)\n",
    "\n",
    "        return w\n",
    "    \n",
    "    def em2(self, ops):\n",
    "        n_ops = ops.shape[0]\n",
    "        np.random.seed(13)\n",
    "        w = np.random.rand(n_ops)-0.5\n",
    "        w = torch.from_numpy(w).cuda()\n",
    "        ops = torch.from_numpy(ops).cuda()\n",
    "        \n",
    "        for i in range(self.max_iter):\n",
    "\n",
    "            energies_w = w@ops\n",
    "\n",
    "            probs_w = torch.exp((energies_w)*(self.epsilon-1)) \n",
    "            z_data = torch.sum(probs_w)\n",
    "            probs_w /= z_data\n",
    "            ops_expect_w = torch.sum(probs_w[:,np.newaxis]*ops,axis=1)\n",
    "\n",
    "\n",
    "            w += self.learning_rate*(ops_expect_w - w*self.epsilon - self.regularizer*w)\n",
    "\n",
    "        return w"
   ]
  },
  {
   "cell_type": "code",
   "execution_count": 81,
   "id": "3edb457d",
   "metadata": {},
   "outputs": [],
   "source": [
    "EM = fit()\n",
    "config = np.random.choice([-1.,1.] , size=(10,1000000), replace = True)\n",
    "OPS = fit.operators(config)\n",
    "W = EM.em1(OPS)"
   ]
  },
  {
   "cell_type": "code",
   "execution_count": 82,
   "id": "1d58c322",
   "metadata": {},
   "outputs": [
    {
     "data": {
      "text/plain": [
       "array([ 2.91825370e-04,  1.01377354e-03, -8.78593481e-04,  3.82116400e-05,\n",
       "       -4.27138188e-04,  8.99150606e-05,  2.29238213e-04,  1.69632493e-03,\n",
       "        2.07985728e-04,  8.26585363e-04, -6.69446152e-04,  2.29800990e-04,\n",
       "        3.12484900e-04,  9.97834158e-05,  7.88988689e-04,  6.35765193e-04,\n",
       "        9.45532262e-04, -8.75749165e-04,  4.92365758e-04,  4.88055260e-05,\n",
       "       -7.27012753e-04,  8.33539922e-05,  1.53612683e-03, -1.57610934e-03,\n",
       "        3.64080658e-04, -1.08089558e-03, -1.43714899e-03,  2.26849602e-03,\n",
       "        1.67630282e-04, -1.25651594e-03,  6.68353214e-04,  1.64367690e-03,\n",
       "        2.08488866e-03, -2.56947745e-04, -1.36492408e-04,  2.00233253e-04,\n",
       "        1.43404432e-03, -1.38303488e-04,  8.07338813e-04,  2.29672919e-03,\n",
       "       -4.30915248e-04, -9.39469311e-04,  1.48156992e-03,  2.66334275e-03,\n",
       "       -2.67761682e-04])"
      ]
     },
     "execution_count": 82,
     "metadata": {},
     "output_type": "execute_result"
    }
   ],
   "source": [
    "W"
   ]
  },
  {
   "cell_type": "code",
   "execution_count": 65,
   "id": "8627ce21",
   "metadata": {},
   "outputs": [
    {
     "data": {
      "text/plain": [
       "array([ 1.,  1., -1.])"
      ]
     },
     "execution_count": 65,
     "metadata": {},
     "output_type": "execute_result"
    }
   ],
   "source": [
    "config[:,0]"
   ]
  },
  {
   "cell_type": "code",
   "execution_count": 66,
   "id": "766973f3",
   "metadata": {},
   "outputs": [
    {
     "name": "stdout",
     "output_type": "stream",
     "text": [
      "[ 1. -1. -1.]\n"
     ]
    }
   ],
   "source": [
    "print(OPS[:,0])"
   ]
  },
  {
   "cell_type": "code",
   "execution_count": null,
   "id": "29e4393e",
   "metadata": {},
   "outputs": [],
   "source": [
    "    \n",
    "        \n",
    "# convert s[n_seq,n_var] to ops[n_seq,n_ops]\n",
    "def operators(s):\n",
    "    #generate terms in the energy function\n",
    "    n_seq,n_var = s.shape\n",
    "    ops = np.zeros((n_seq,n_var+int(n_var*(n_var-1)/2.0)))\n",
    "\n",
    "    jindex = 0\n",
    "    for index in range(n_var):\n",
    "        ops[:,jindex] = s[:,index]\n",
    "        jindex +=1\n",
    "\n",
    "    for index in range(n_var-1):\n",
    "        for index1 in range(index+1,n_var):\n",
    "            ops[:,jindex] = s[:,index]*s[:,index1]\n",
    "            jindex +=1\n",
    "            \n",
    "    return ops\n",
    "#=========================================================================================\n",
    "def energy_ops(ops,w):\n",
    "    return np.sum(ops*w[np.newaxis,:],axis=1)\n",
    "#=========================================================================================\n",
    "# \n",
    "def generate_seq(n_var,n_seq,n_sample=30,g=1.0):\n",
    "    n_ops = n_var+int(n_var*(n_var-1)/2.0)\n",
    "    #w_true = g*(np.random.rand(ops.shape[1])-0.5)/np.sqrt(float(n_var))\n",
    "    w_true = np.random.normal(0.,g/np.sqrt(n_var),size=n_ops)\n",
    "    \n",
    "    samples = np.random.choice([1.0,-1.0],size=(n_seq*n_sample,n_var),replace=True)\n",
    "    ops = operators(samples)\n",
    "\n",
    "    #sample_energy = energy_ops(ops,w_true)\n",
    "    sample_energy = ops.dot(w_true)\n",
    "\n",
    "    p = np.exp(sample_energy)\n",
    "    p /= np.sum(p)\n",
    "    out_samples = np.random.choice(np.arange(n_seq*n_sample),size=n_seq,replace=True,p=p)\n",
    "    \n",
    "    return w_true,samples[out_samples]\n",
    "#=========================================================================================\n",
    "# find coupling w from sequences s\n",
    "# input: ops[n_seq,n_ops]\n",
    "# output: w[n_ops], E_av\n",
    "def fit(ops,eps=0.1,max_iter=151,alpha=0.1,regular = 0.1):\n",
    "    E_av = np.zeros(max_iter)\n",
    "    n_ops = ops.shape[1]\n",
    "\n",
    "    np.random.seed(13)\n",
    "    w = np.random.rand(n_ops)-0.5    \n",
    "    for i in range(max_iter):\n",
    "        #if eps_type == 'random':\n",
    "        #    eps_scale = np.random.rand()/np.max([1.,np.max(np.abs(w))])\n",
    "                                 \n",
    "        #energies_w = energy_ops(ops,w)\n",
    "        energies_w = ops.dot(w)\n",
    "\n",
    "        energies_max = energies_w.max()  \n",
    "        probs_w = np.exp((energies_w-energies_max)*(eps-1)) # to avoid a too lager value\n",
    "        z_data = np.sum(probs_w)\n",
    "        probs_w /= z_data\n",
    "        ops_expect_w = np.sum(probs_w[:,np.newaxis]*ops,axis=0)\n",
    "\n",
    "        #E_av[i] = energies_w.mean()    \n",
    "        w += alpha*(ops_expect_w - w*eps - regular*w)\n",
    "              \n",
    "    return w#,-E_av[-1]"
   ]
  },
  {
   "cell_type": "code",
   "execution_count": 2,
   "id": "e7245e81",
   "metadata": {},
   "outputs": [],
   "source": [
    "T = np.linspace(5.,0.001,50)\n",
    "ram_arr = np.arange(2,0,-0.1)\n",
    "L = 40\n",
    "sample_size_arr = [5000]\n",
    "ens = 15\n",
    "eps = 0.8"
   ]
  },
  {
   "cell_type": "code",
   "execution_count": null,
   "id": "c960406a",
   "metadata": {},
   "outputs": [],
   "source": [
    "MSE_arr = np.zeros((len(T),ens,len(ram_arr)))\n",
    "\n",
    "#---------------------------------------------------------------------------------------------------------------------\n",
    "for en in tqdm(range(ens)):\n",
    "    \n",
    "    config_arr = np.zeros((L,1,50))\n",
    "\n",
    "    path = r'E:\\L40\\저장\\config\\SK model\\L40_{1}\\\\'.format(L,en+36)\n",
    "    \n",
    "    for r in range(50):\n",
    "        config_arr_0 = np.load(path + 'config_%d.npy'%(r))\n",
    "        config_arr = np.concatenate((config_arr,config_arr_0),axis = 1)\n",
    "\n",
    "    randidx = np.random.choice(50000,5000,replace = False)\n",
    "    config_arr = config_arr[:,1:,:]\n",
    "    config_arr = config_arr[:,randidx,:]\n",
    "    \n",
    "    for r,ram in enumerate(ram_arr):\n",
    "    #---------------------------------------------------------------------------------------------------------------------\n",
    "        YOUR_DIRECTORY_NAME = r'C:\\Users\\user\\Dropbox\\test\\각종 자료\\Erasure Machine\\저장\\그림저장\\inference\\Regularization\\L40\\R{0}\\\\'.format(ram)\n",
    "        try:\n",
    "            if not(os.path.exists(YOUR_DIRECTORY_NAME)):\n",
    "                os.makedirs(YOUR_DIRECTORY_NAME)\n",
    "        except OSError as e:\n",
    "            if OSError:\n",
    "                print(\"Failed to create directory\")\n",
    "#---------------------------------------------------------------------------------------------------------------------\n",
    "        w_mat = np.load(path + 'J.npy')\n",
    "        iu1 = np.triu_indices(L,1)\n",
    "        w_true = np.hstack((np.zeros(L),w_mat[iu1]))\n",
    "    #---------------------------------------------------------------------------------------------------------------------\n",
    "\n",
    "        for i,t in enumerate(T):\n",
    "            seqs = config_arr[:,:,i].T\n",
    "            ops = operators(seqs)\n",
    "            w = fit(ops,eps=eps,max_iter=100,regular = ram)\n",
    "            MSE_arr[i,en,r] = np.sum(w_true-w)**2 / np.sum(w_true**2)\n",
    "\n",
    "            YOUR_DIRECTORY_NAME_en = r'C:\\Users\\user\\Dropbox\\test\\각종 자료\\Erasure Machine\\저장\\그림저장\\inference\\Regularization\\L40\\R{2}\\en{0}\\T{1}\\\\'.format(en+36,t,ram)\n",
    "\n",
    "            try:\n",
    "                if not(os.path.exists(YOUR_DIRECTORY_NAME_en)):\n",
    "                    os.makedirs(YOUR_DIRECTORY_NAME_en)\n",
    "            except OSError as e:\n",
    "                if OSError:\n",
    "                    print(\"Failed to create directory\")\n",
    "\n",
    "            np.save( YOUR_DIRECTORY_NAME_en + 'w_true.npy',w_true)\n",
    "            np.save( YOUR_DIRECTORY_NAME_en + 'w_infered.npy',w)\n",
    "\n",
    "            plt.plot([-1.,1.],[-1.,1.],'r--')\n",
    "            plt.plot(w_true,w,'ko')\n",
    "            plt.xlabel('Actual interactions')\n",
    "            plt.ylabel('Inferred interactions')\n",
    "            plt.savefig(YOUR_DIRECTORY_NAME_en + 'act_inf.svg')\n",
    "            plt.savefig(YOUR_DIRECTORY_NAME_en + 'act_inf.png')\n",
    "            plt.close()\n",
    "            \n",
    "np.save(YOUR_DIRECTORY_NAME + 'MSE.npy',MSE_arr)"
   ]
  }
 ],
 "metadata": {
  "kernelspec": {
   "display_name": "Python 3 (ipykernel)",
   "language": "python",
   "name": "python3"
  },
  "language_info": {
   "codemirror_mode": {
    "name": "ipython",
    "version": 3
   },
   "file_extension": ".py",
   "mimetype": "text/x-python",
   "name": "python",
   "nbconvert_exporter": "python",
   "pygments_lexer": "ipython3",
   "version": "3.9.6"
  }
 },
 "nbformat": 4,
 "nbformat_minor": 5
}
